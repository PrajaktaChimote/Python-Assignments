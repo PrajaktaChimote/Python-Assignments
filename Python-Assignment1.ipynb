{
 "cells": [
  {
   "cell_type": "code",
   "execution_count": 2,
   "id": "0720806f",
   "metadata": {},
   "outputs": [
    {
     "data": {
      "text/plain": [
       "'* is mathematical operator'"
      ]
     },
     "execution_count": 2,
     "metadata": {},
     "output_type": "execute_result"
    }
   ],
   "source": [
    "\"*, -, /, + is mathematical operator\"\n"
   ]
  },
  {
   "cell_type": "code",
   "execution_count": 3,
   "id": "3a49d2c6",
   "metadata": {},
   "outputs": [
    {
     "data": {
      "text/plain": [
       "'hello is string'"
      ]
     },
     "execution_count": 3,
     "metadata": {},
     "output_type": "execute_result"
    }
   ],
   "source": [
    "'hello is string'"
   ]
  },
  {
   "cell_type": "code",
   "execution_count": 5,
   "id": "4a9565ed",
   "metadata": {},
   "outputs": [
    {
     "data": {
      "text/plain": [
       "'-87.8 is float'"
      ]
     },
     "execution_count": 5,
     "metadata": {},
     "output_type": "execute_result"
    }
   ],
   "source": [
    "\"-87.8 is float\""
   ]
  },
  {
   "cell_type": "code",
   "execution_count": 6,
   "id": "65e39701",
   "metadata": {},
   "outputs": [
    {
     "data": {
      "text/plain": [
       "'6 is integer'"
      ]
     },
     "execution_count": 6,
     "metadata": {},
     "output_type": "execute_result"
    }
   ],
   "source": [
    "\"6 is integer\""
   ]
  },
  {
   "cell_type": "code",
   "execution_count": 7,
   "id": "d21123dd",
   "metadata": {},
   "outputs": [
    {
     "data": {
      "text/plain": [
       "'Q.2 - string has contains of alphanumeric values, whereas variable is value which can be any type string, integer, float boolean'"
      ]
     },
     "execution_count": 7,
     "metadata": {},
     "output_type": "execute_result"
    }
   ],
   "source": [
    "\"Q.2 - string has contains of alphanumeric values, whereas variable is value which can be any type string, integer, float boolean\""
   ]
  },
  {
   "cell_type": "code",
   "execution_count": 9,
   "id": "be255c0e",
   "metadata": {},
   "outputs": [
    {
     "data": {
      "text/plain": [
       "'Q3. string, flaot, integer, boolean'"
      ]
     },
     "execution_count": 9,
     "metadata": {},
     "output_type": "execute_result"
    }
   ],
   "source": [
    "\"Q3. string, flaot, integer, boolean\""
   ]
  },
  {
   "cell_type": "code",
   "execution_count": 10,
   "id": "75645512",
   "metadata": {},
   "outputs": [
    {
     "data": {
      "text/plain": [
       "'expression made up of syntax which execute give us the output'"
      ]
     },
     "execution_count": 10,
     "metadata": {},
     "output_type": "execute_result"
    }
   ],
   "source": [
    "'expression made up of syntax which execute give us the output'"
   ]
  },
  {
   "cell_type": "code",
   "execution_count": 12,
   "id": "456636f9",
   "metadata": {},
   "outputs": [
    {
     "data": {
      "text/plain": [
       "'spam = 10 written is an expression however it states that spam variable its value is 10'"
      ]
     },
     "execution_count": 12,
     "metadata": {},
     "output_type": "execute_result"
    }
   ],
   "source": [
    "'spam = 10 written is an expression however it states that spam variable its value is 10'"
   ]
  },
  {
   "cell_type": "code",
   "execution_count": 13,
   "id": "1017a81d",
   "metadata": {},
   "outputs": [],
   "source": [
    "bacon = 22"
   ]
  },
  {
   "cell_type": "code",
   "execution_count": 14,
   "id": "553958bf",
   "metadata": {},
   "outputs": [
    {
     "data": {
      "text/plain": [
       "23"
      ]
     },
     "execution_count": 14,
     "metadata": {},
     "output_type": "execute_result"
    }
   ],
   "source": [
    "bacon + 1"
   ]
  },
  {
   "cell_type": "code",
   "execution_count": 15,
   "id": "5d0d139f",
   "metadata": {},
   "outputs": [
    {
     "data": {
      "text/plain": [
       "22"
      ]
     },
     "execution_count": 15,
     "metadata": {},
     "output_type": "execute_result"
    }
   ],
   "source": [
    "bacon"
   ]
  },
  {
   "cell_type": "code",
   "execution_count": 17,
   "id": "96dd6e98",
   "metadata": {},
   "outputs": [
    {
     "data": {
      "text/plain": [
       "'bacon is 22'"
      ]
     },
     "execution_count": 17,
     "metadata": {},
     "output_type": "execute_result"
    }
   ],
   "source": [
    "'bacon is 22'"
   ]
  },
  {
   "cell_type": "code",
   "execution_count": 18,
   "id": "7b67bcca",
   "metadata": {},
   "outputs": [
    {
     "data": {
      "text/plain": [
       "'spamspamspam'"
      ]
     },
     "execution_count": 18,
     "metadata": {},
     "output_type": "execute_result"
    }
   ],
   "source": [
    "'spam' + 'spamspam'"
   ]
  },
  {
   "cell_type": "code",
   "execution_count": 19,
   "id": "f8a5fae0",
   "metadata": {},
   "outputs": [
    {
     "data": {
      "text/plain": [
       "'this will concatinate the 2 strings'"
      ]
     },
     "execution_count": 19,
     "metadata": {},
     "output_type": "execute_result"
    }
   ],
   "source": [
    "'this will concatinate the 2 strings'"
   ]
  },
  {
   "cell_type": "code",
   "execution_count": 20,
   "id": "4aa9c8d2",
   "metadata": {},
   "outputs": [
    {
     "data": {
      "text/plain": [
       "'spamspamspam'"
      ]
     },
     "execution_count": 20,
     "metadata": {},
     "output_type": "execute_result"
    }
   ],
   "source": [
    "'spam' * 3"
   ]
  },
  {
   "cell_type": "code",
   "execution_count": 21,
   "id": "8440bac4",
   "metadata": {},
   "outputs": [
    {
     "data": {
      "text/plain": [
       "'it will write the same string 3 times'"
      ]
     },
     "execution_count": 21,
     "metadata": {},
     "output_type": "execute_result"
    }
   ],
   "source": [
    "'it will write the same string 3 times'"
   ]
  },
  {
   "cell_type": "code",
   "execution_count": 24,
   "id": "46dd4574",
   "metadata": {},
   "outputs": [
    {
     "data": {
      "text/plain": [
       "'variable is alphanumeric so eggs can be a variable however 100 is the integer value so it is not variable but you can assigned that value to a variable'"
      ]
     },
     "execution_count": 24,
     "metadata": {},
     "output_type": "execute_result"
    }
   ],
   "source": [
    "'variable is alphanumeric so eggs can be a variable however 100 is the integer value so it is not variable but you can assigned that value to a variable'"
   ]
  },
  {
   "cell_type": "code",
   "execution_count": 25,
   "id": "1bd65d31",
   "metadata": {},
   "outputs": [
    {
     "data": {
      "text/plain": [
       "0"
      ]
     },
     "execution_count": 25,
     "metadata": {},
     "output_type": "execute_result"
    }
   ],
   "source": [
    "int()"
   ]
  },
  {
   "cell_type": "code",
   "execution_count": 27,
   "id": "79d3c400",
   "metadata": {},
   "outputs": [
    {
     "data": {
      "text/plain": [
       "''"
      ]
     },
     "execution_count": 27,
     "metadata": {},
     "output_type": "execute_result"
    }
   ],
   "source": [
    "str()"
   ]
  },
  {
   "cell_type": "code",
   "execution_count": 28,
   "id": "b5f4ae8b",
   "metadata": {},
   "outputs": [
    {
     "data": {
      "text/plain": [
       "0.0"
      ]
     },
     "execution_count": 28,
     "metadata": {},
     "output_type": "execute_result"
    }
   ],
   "source": [
    "float()"
   ]
  },
  {
   "cell_type": "code",
   "execution_count": 29,
   "id": "85e3f8f3",
   "metadata": {},
   "outputs": [
    {
     "data": {
      "text/plain": [
       "'the above 3 functions are used'"
      ]
     },
     "execution_count": 29,
     "metadata": {},
     "output_type": "execute_result"
    }
   ],
   "source": [
    "'the above 3 functions are used'"
   ]
  },
  {
   "cell_type": "code",
   "execution_count": 31,
   "id": "b07d498e",
   "metadata": {},
   "outputs": [
    {
     "data": {
      "text/plain": [
       "'I have eaten 99 burritos.'"
      ]
     },
     "execution_count": 31,
     "metadata": {},
     "output_type": "execute_result"
    }
   ],
   "source": [
    "'I have eaten ' + '99' + ' burritos.'\n"
   ]
  },
  {
   "cell_type": "code",
   "execution_count": 32,
   "id": "52a187d1",
   "metadata": {},
   "outputs": [
    {
     "data": {
      "text/plain": [
       "'The condition has 99 value it should be string so it should write in double/single codes'"
      ]
     },
     "execution_count": 32,
     "metadata": {},
     "output_type": "execute_result"
    }
   ],
   "source": [
    "'The condition has 99 value it should be string so it should write in double/single codes'"
   ]
  },
  {
   "cell_type": "code",
   "execution_count": null,
   "id": "4314d0f7",
   "metadata": {},
   "outputs": [],
   "source": []
  }
 ],
 "metadata": {
  "kernelspec": {
   "display_name": "Python 3 (ipykernel)",
   "language": "python",
   "name": "python3"
  },
  "language_info": {
   "codemirror_mode": {
    "name": "ipython",
    "version": 3
   },
   "file_extension": ".py",
   "mimetype": "text/x-python",
   "name": "python",
   "nbconvert_exporter": "python",
   "pygments_lexer": "ipython3",
   "version": "3.9.13"
  }
 },
 "nbformat": 4,
 "nbformat_minor": 5
}
